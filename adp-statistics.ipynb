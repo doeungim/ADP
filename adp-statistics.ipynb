{
 "cells": [
  {
   "cell_type": "code",
   "execution_count": 1,
   "id": "690f4da8",
   "metadata": {
    "_cell_guid": "b1076dfc-b9ad-4769-8c92-a6c4dae69d19",
    "_uuid": "8f2839f25d086af736a60e9eeb907d3b93b6e0e5",
    "execution": {
     "iopub.execute_input": "2024-04-21T10:28:58.835768Z",
     "iopub.status.busy": "2024-04-21T10:28:58.835265Z",
     "iopub.status.idle": "2024-04-21T10:28:59.835458Z",
     "shell.execute_reply": "2024-04-21T10:28:59.834258Z"
    },
    "papermill": {
     "duration": 1.015167,
     "end_time": "2024-04-21T10:28:59.838007",
     "exception": false,
     "start_time": "2024-04-21T10:28:58.822840",
     "status": "completed"
    },
    "tags": []
   },
   "outputs": [],
   "source": [
    "# This Python 3 environment comes with many helpful analytics libraries installed\n",
    "# It is defined by the kaggle/python Docker image: https://github.com/kaggle/docker-python\n",
    "# For example, here's several helpful packages to load\n",
    "\n",
    "import numpy as np # linear algebra\n",
    "import pandas as pd # data processing, CSV file I/O (e.g. pd.read_csv)\n",
    "\n",
    "# Input data files are available in the read-only \"../input/\" directory\n",
    "# For example, running this (by clicking run or pressing Shift+Enter) will list all files under the input directory\n",
    "\n",
    "import os\n",
    "for dirname, _, filenames in os.walk('/kaggle/input'):\n",
    "    for filename in filenames:\n",
    "        print(os.path.join(dirname, filename))\n",
    "\n",
    "# You can write up to 20GB to the current directory (/kaggle/working/) that gets preserved as output when you create a version using \"Save & Run All\" \n",
    "# You can also write temporary files to /kaggle/temp/, but they won't be saved outside of the current session"
   ]
  },
  {
   "cell_type": "markdown",
   "id": "eb672318",
   "metadata": {
    "papermill": {
     "duration": 0.008957,
     "end_time": "2024-04-21T10:28:59.856266",
     "exception": false,
     "start_time": "2024-04-21T10:28:59.847309",
     "status": "completed"
    },
    "tags": []
   },
   "source": [
    "## 모비율 검정 \n",
    "p를 6이 나오는 확률이라고 하자. 에 대하여 \n",
    "을 검정하기 위하여, 여러 개의 주사위를 던져 총 n=8000개의 관측치 중 1389개의 주사위 눈이 6인 결과를 얻었다. 유의수준 0.05 하에서 가설검정을 진행하라"
   ]
  },
  {
   "cell_type": "code",
   "execution_count": 2,
   "id": "57b9bfaa",
   "metadata": {
    "execution": {
     "iopub.execute_input": "2024-04-21T10:28:59.876226Z",
     "iopub.status.busy": "2024-04-21T10:28:59.875413Z",
     "iopub.status.idle": "2024-04-21T10:29:00.986961Z",
     "shell.execute_reply": "2024-04-21T10:29:00.985729Z"
    },
    "papermill": {
     "duration": 1.12455,
     "end_time": "2024-04-21T10:29:00.989739",
     "exception": false,
     "start_time": "2024-04-21T10:28:59.865189",
     "status": "completed"
    },
    "tags": []
   },
   "outputs": [
    {
     "name": "stdout",
     "output_type": "stream",
     "text": [
      "1.6700000000000026\n",
      "1.6448536269514722\n",
      "0.04745968180294702\n"
     ]
    }
   ],
   "source": [
    "p = 1/6 # 정해진 확률 \n",
    "n = 8000 \n",
    "p_hat = 1389 / 8000 \n",
    "\n",
    "\n",
    "se = np.sqrt(p * (1-p) / n)\n",
    "z_stat = (p_hat - p) / se \n",
    "print(z_stat)\n",
    "\n",
    "## 기각역 \n",
    "from scipy.stats import norm\n",
    "\n",
    "z_critical = norm.ppf(1 - 0.05)\n",
    "print(z_critical) # 1.65 를 구하는 식 \n",
    "\n",
    "# P-value = 검정 통계량값의 누적 질량 함수 \n",
    "print(1 - norm.cdf(abs(z_stat)))"
   ]
  },
  {
   "cell_type": "markdown",
   "id": "30a39f01",
   "metadata": {
    "papermill": {
     "duration": 0.008827,
     "end_time": "2024-04-21T10:29:01.007736",
     "exception": false,
     "start_time": "2024-04-21T10:29:00.998909",
     "status": "completed"
    },
    "tags": []
   },
   "source": [
    "한 지역의 국회의원 선거여론조사를 지난달 실시한 결과 특정후보의 지지율이 60%이었다. 최근에 지지율에 변동이 있는지 알아보기 위해 100명을 단순임의추출하였더니 55명이 지지를 하였다. 특정후보에 대한 현재 지지율이 60%에서 변동이 있는지 유의수준 5%로 가설검정하라."
   ]
  },
  {
   "cell_type": "markdown",
   "id": "07a177b9",
   "metadata": {
    "papermill": {
     "duration": 0.008853,
     "end_time": "2024-04-21T10:29:01.025625",
     "exception": false,
     "start_time": "2024-04-21T10:29:01.016772",
     "status": "completed"
    },
    "tags": []
   },
   "source": [
    "- H0 : 특정 후보에 대한 지지율이 60&이다. \n",
    "- H1 : 특정 후보에 대한 지지율이 60%이 아니다. "
   ]
  },
  {
   "cell_type": "code",
   "execution_count": 3,
   "id": "b85b0e7c",
   "metadata": {
    "execution": {
     "iopub.execute_input": "2024-04-21T10:29:01.045518Z",
     "iopub.status.busy": "2024-04-21T10:29:01.045096Z",
     "iopub.status.idle": "2024-04-21T10:29:01.053129Z",
     "shell.execute_reply": "2024-04-21T10:29:01.051994Z"
    },
    "papermill": {
     "duration": 0.02097,
     "end_time": "2024-04-21T10:29:01.055629",
     "exception": false,
     "start_time": "2024-04-21T10:29:01.034659",
     "status": "completed"
    },
    "tags": []
   },
   "outputs": [
    {
     "name": "stdout",
     "output_type": "stream",
     "text": [
      "-1.0206207261596563\n",
      "0.30743416592739603\n"
     ]
    }
   ],
   "source": [
    "p = 0.6 \n",
    "n = 100 \n",
    "p_hat = 55 / 100 \n",
    "\n",
    "se = np.sqrt(p * (1- p) / n)\n",
    "d = (p_hat - p)\n",
    "z = d / se\n",
    "print(z)\n",
    "\n",
    "# 기각역 ppf 확률 분포 함수 \n",
    "z_critical = norm.ppf(1 - 0.05)\n",
    "\n",
    "#  p_value \n",
    "print(2 * (1 - norm.cdf(abs(z))))"
   ]
  },
  {
   "cell_type": "markdown",
   "id": "a1a48f53",
   "metadata": {
    "papermill": {
     "duration": 0.008958,
     "end_time": "2024-04-21T10:29:01.073773",
     "exception": false,
     "start_time": "2024-04-21T10:29:01.064815",
     "status": "completed"
    },
    "tags": []
   },
   "source": [
    "## 모비율 구간 추정\n",
    "한 대학교에서 3월 한 달간 신입학생 325명을 대상으로 일주일에 1회 이하로 술을 마시는 사람을 조사해본 결과 25명이었다. 99% 신뢰수준에서 모비율을 추정하라.\n",
    "\n"
   ]
  },
  {
   "cell_type": "markdown",
   "id": "47f24b6d",
   "metadata": {
    "papermill": {
     "duration": 0.008822,
     "end_time": "2024-04-21T10:29:01.091638",
     "exception": false,
     "start_time": "2024-04-21T10:29:01.082816",
     "status": "completed"
    },
    "tags": []
   },
   "source": [
    "/"
   ]
  },
  {
   "cell_type": "code",
   "execution_count": 4,
   "id": "8a5d5202",
   "metadata": {
    "execution": {
     "iopub.execute_input": "2024-04-21T10:29:01.111593Z",
     "iopub.status.busy": "2024-04-21T10:29:01.111182Z",
     "iopub.status.idle": "2024-04-21T10:29:01.117711Z",
     "shell.execute_reply": "2024-04-21T10:29:01.116393Z"
    },
    "papermill": {
     "duration": 0.019342,
     "end_time": "2024-04-21T10:29:01.119963",
     "exception": false,
     "start_time": "2024-04-21T10:29:01.100621",
     "status": "completed"
    },
    "tags": []
   },
   "outputs": [],
   "source": [
    "n = 325 \n",
    "p = 25 / 325 \n",
    "conf = 0.01 \n",
    "\n",
    "# 표준오차 \n",
    "SE = np.sqrt(p * (1- p) / n)\n",
    "\n",
    "# 기각역\n",
    "conf_z = norm.ppf(1 - conf/2) #2.57\n",
    "# 허용 오차 Za/2 * SE \n",
    "ME = conf_z * SE "
   ]
  },
  {
   "cell_type": "markdown",
   "id": "cb6a7e4f",
   "metadata": {
    "papermill": {
     "duration": 0.008919,
     "end_time": "2024-04-21T10:29:01.139061",
     "exception": false,
     "start_time": "2024-04-21T10:29:01.130142",
     "status": "completed"
    },
    "tags": []
   },
   "source": [
    "시중에서 판매되는 한 제품의 불량률을 추정하려고 한다. 900대의 제품을 랜덤하게 조사하였더니 불량률이 450대였다. 판매되는 제품되는 불량률에 대한 90% 신뢰구간을 구하여라."
   ]
  },
  {
   "cell_type": "code",
   "execution_count": 5,
   "id": "b1af7f5d",
   "metadata": {
    "execution": {
     "iopub.execute_input": "2024-04-21T10:29:01.159229Z",
     "iopub.status.busy": "2024-04-21T10:29:01.158825Z",
     "iopub.status.idle": "2024-04-21T10:29:01.341326Z",
     "shell.execute_reply": "2024-04-21T10:29:01.339860Z"
    },
    "papermill": {
     "duration": 0.195632,
     "end_time": "2024-04-21T10:29:01.343758",
     "exception": false,
     "start_time": "2024-04-21T10:29:01.148126",
     "status": "completed"
    },
    "tags": []
   },
   "outputs": [
    {
     "name": "stdout",
     "output_type": "stream",
     "text": [
      "0.4725857728841421 0.5274142271158578\n",
      "({0.4725857728841421}, {0.5274142271158578})\n"
     ]
    }
   ],
   "source": [
    "n = 900 \n",
    "p = 450 / 900 \n",
    "conf = 0.1 \n",
    "\n",
    "# 1) SE \n",
    "SE = np.sqrt(p * (1 -p) / n)\n",
    "\n",
    "# 2) Z_crtical \n",
    "conf = norm.ppf(1- conf/2)\n",
    "\n",
    "# 3) ME \n",
    "ME = conf * SE \n",
    "print(p - ME, p + ME)\n",
    "\n",
    "\n",
    "### Libary 풀이 \n",
    "from statsmodels.stats.proportion import proportion_confint \n",
    "count = 450\n",
    "nobs = 900 \n",
    "\n",
    "low, upper = proportion_confint(count, nobs, alpha = 0.1)\n",
    "print(({low}, {upper}))"
   ]
  },
  {
   "cell_type": "markdown",
   "id": "860069ea",
   "metadata": {
    "papermill": {
     "duration": 0.00915,
     "end_time": "2024-04-21T10:29:01.362762",
     "exception": false,
     "start_time": "2024-04-21T10:29:01.353612",
     "status": "completed"
    },
    "tags": []
   },
   "source": [
    "철강제품의 불량률을 조사하고자 한다. 이 때, 불량률의 90% 신뢰수준, 추정오차한계가 5% 이내가 되기 위하여 적절한 표본의 크기 중 최소값은 얼마인가 (ADP_26 기출)"
   ]
  },
  {
   "cell_type": "code",
   "execution_count": 6,
   "id": "731b688b",
   "metadata": {
    "execution": {
     "iopub.execute_input": "2024-04-21T10:29:01.383275Z",
     "iopub.status.busy": "2024-04-21T10:29:01.382873Z",
     "iopub.status.idle": "2024-04-21T10:29:01.392451Z",
     "shell.execute_reply": "2024-04-21T10:29:01.391222Z"
    },
    "papermill": {
     "duration": 0.022723,
     "end_time": "2024-04-21T10:29:01.395026",
     "exception": false,
     "start_time": "2024-04-21T10:29:01.372303",
     "status": "completed"
    },
    "tags": []
   },
   "outputs": [
    {
     "data": {
      "text/plain": [
       "270.5543454095412"
      ]
     },
     "execution_count": 6,
     "metadata": {},
     "output_type": "execute_result"
    }
   ],
   "source": [
    "conf = 0.1\n",
    "\n",
    "Z = norm.ppf(1 - conf/2 ) # 1.644\n",
    "p = 0.5 \n",
    "# 추정 오차 한계\n",
    "E = 0.05 \n",
    "\n",
    "((Z**2 * p * (1 - p)) / E**2)"
   ]
  },
  {
   "cell_type": "markdown",
   "id": "c594226a",
   "metadata": {
    "papermill": {
     "duration": 0.009508,
     "end_time": "2024-04-21T10:29:01.414381",
     "exception": false,
     "start_time": "2024-04-21T10:29:01.404873",
     "status": "completed"
    },
    "tags": []
   },
   "source": [
    "## 이표본 비율 검정 \n",
    "\n",
    "1. 특정 후보의 지지율이 \"성별\"에 따른 차이가 있는가?\n",
    "2. 두 대의 기계의 불량률이 서로 다른가? "
   ]
  },
  {
   "cell_type": "markdown",
   "id": "59b5bd94",
   "metadata": {
    "papermill": {
     "duration": 0.009188,
     "end_time": "2024-04-21T10:29:01.433125",
     "exception": false,
     "start_time": "2024-04-21T10:29:01.423937",
     "status": "completed"
    },
    "tags": []
   },
   "source": [
    " "
   ]
  },
  {
   "cell_type": "markdown",
   "id": "9bd1cd16",
   "metadata": {
    "papermill": {
     "duration": 0.009216,
     "end_time": "2024-04-21T10:29:01.451952",
     "exception": false,
     "start_time": "2024-04-21T10:29:01.442736",
     "status": "completed"
    },
    "tags": []
   },
   "source": [
    "C사 생산 제품 1000개 중 양품이 600개, D사 생산 제품 500개 중 양품이 200개 이다. 두 회사의 양품률에 차이가 있는지 검정하여라."
   ]
  },
  {
   "cell_type": "markdown",
   "id": "0d505ad4",
   "metadata": {
    "papermill": {
     "duration": 0.00912,
     "end_time": "2024-04-21T10:29:01.470500",
     "exception": false,
     "start_time": "2024-04-21T10:29:01.461380",
     "status": "completed"
    },
    "tags": []
   },
   "source": [
    "- H1 : 두 회사의 양품율의 차이는 없다.\n",
    "- H0 : 두 회사의 양품율의 차이는 있다."
   ]
  },
  {
   "cell_type": "code",
   "execution_count": 7,
   "id": "470b4976",
   "metadata": {
    "execution": {
     "iopub.execute_input": "2024-04-21T10:29:01.491707Z",
     "iopub.status.busy": "2024-04-21T10:29:01.491321Z",
     "iopub.status.idle": "2024-04-21T10:29:01.500913Z",
     "shell.execute_reply": "2024-04-21T10:29:01.499807Z"
    },
    "papermill": {
     "duration": 0.023864,
     "end_time": "2024-04-21T10:29:01.503980",
     "exception": false,
     "start_time": "2024-04-21T10:29:01.480116",
     "status": "completed"
    },
    "tags": []
   },
   "outputs": [
    {
     "name": "stdout",
     "output_type": "stream",
     "text": [
      "1.960\n",
      "0.000\n"
     ]
    }
   ],
   "source": [
    "## Solution 1) \n",
    "n1 = 1000 \n",
    "p1 = 600 / 1000 \n",
    "\n",
    "n2 = 500\n",
    "p2 = 200 / 500 \n",
    "\n",
    "# 차이 \n",
    "d = p1 - p2\n",
    "\n",
    "# 기각역 (양측검정)\n",
    "Z = norm.ppf(1 - 0.05/2)\n",
    "\n",
    "# 합동 분산 \n",
    "pe = (n1 * p1 + n2 * p2) / (n1 + n2)\n",
    "\n",
    "# SE \n",
    "se = np.sqrt( (pe * (1 - pe)) / n1 + (pe * (1 - pe)) / n2)\n",
    "\n",
    "# 검정통계량 \n",
    "z = d/se\n",
    "\n",
    "# 유의 수준 : 검정 통계량의 확률 누적 함수 \n",
    "p_val = 1 - norm.cdf(np.abs(z))\n",
    "print('{:.3f}'.format(Z, z))\n",
    "print('{:.3f}'.format(p_val))"
   ]
  },
  {
   "cell_type": "code",
   "execution_count": 8,
   "id": "613f275a",
   "metadata": {
    "execution": {
     "iopub.execute_input": "2024-04-21T10:29:01.524631Z",
     "iopub.status.busy": "2024-04-21T10:29:01.524267Z",
     "iopub.status.idle": "2024-04-21T10:29:01.534363Z",
     "shell.execute_reply": "2024-04-21T10:29:01.533241Z"
    },
    "papermill": {
     "duration": 0.023732,
     "end_time": "2024-04-21T10:29:01.537350",
     "exception": false,
     "start_time": "2024-04-21T10:29:01.513618",
     "status": "completed"
    },
    "tags": []
   },
   "outputs": [
    {
     "name": "stdout",
     "output_type": "stream",
     "text": [
      "52.77087053571428\n",
      "p-value : 0.000\n"
     ]
    }
   ],
   "source": [
    "## Solution 2) \n",
    "from scipy.stats import chi2_contingency\n",
    "observed = [[600, 400], [200, 300]]\n",
    "\n",
    "chi2, p_value, dof, expected = chi2_contingency(observed)\n",
    "chi2, p_value, dof, expected\n",
    "\n",
    "print(chi2)\n",
    "print('p-value : {:.3f}'.format(p_value))"
   ]
  },
  {
   "cell_type": "markdown",
   "id": "b26a0c82",
   "metadata": {
    "papermill": {
     "duration": 0.010019,
     "end_time": "2024-04-21T10:29:01.558083",
     "exception": false,
     "start_time": "2024-04-21T10:29:01.548064",
     "status": "completed"
    },
    "tags": []
   },
   "source": [
    "금년도 대통령 선거에서 특정후보의 지지율에 대해 남녀별로 독립적으로 표본을 추출해 조사하였더니 남자 225명 중 54명이 지지를 하였고, 여자 175명 중 52명이 지지를 하였다. 남녀의 지지율에 차이가 있다고 할 수 있는지 유의수준 5％에서 검정"
   ]
  },
  {
   "cell_type": "markdown",
   "id": "a419716a",
   "metadata": {
    "papermill": {
     "duration": 0.010186,
     "end_time": "2024-04-21T10:29:01.578036",
     "exception": false,
     "start_time": "2024-04-21T10:29:01.567850",
     "status": "completed"
    },
    "tags": []
   },
   "source": [
    "- H0 : 남녀 지지율 차이가 없다\n",
    "- H1 : 남녀 지지율 차이가 있다. "
   ]
  },
  {
   "cell_type": "code",
   "execution_count": 9,
   "id": "2bee2e19",
   "metadata": {
    "execution": {
     "iopub.execute_input": "2024-04-21T10:29:01.599864Z",
     "iopub.status.busy": "2024-04-21T10:29:01.599465Z",
     "iopub.status.idle": "2024-04-21T10:29:01.607011Z",
     "shell.execute_reply": "2024-04-21T10:29:01.605938Z"
    },
    "papermill": {
     "duration": 0.020925,
     "end_time": "2024-04-21T10:29:01.609330",
     "exception": false,
     "start_time": "2024-04-21T10:29:01.588405",
     "status": "completed"
    },
    "tags": []
   },
   "outputs": [
    {
     "name": "stdout",
     "output_type": "stream",
     "text": [
      "1.0135915362922163\n",
      "0.3140439528983863\n",
      "귀무가설 기각\n"
     ]
    }
   ],
   "source": [
    "observed = [[54, 161], [52, 120]]\n",
    "\n",
    "chi, p, d, ex = chi2_contingency(observed)\n",
    "print(chi)\n",
    "print(p)\n",
    "\n",
    "print('귀무가설 기각' if p > 0.05 else '귀무가설채택')"
   ]
  },
  {
   "cell_type": "code",
   "execution_count": 10,
   "id": "5eb46663",
   "metadata": {
    "execution": {
     "iopub.execute_input": "2024-04-21T10:29:01.631258Z",
     "iopub.status.busy": "2024-04-21T10:29:01.630780Z",
     "iopub.status.idle": "2024-04-21T10:29:01.641177Z",
     "shell.execute_reply": "2024-04-21T10:29:01.639974Z"
    },
    "papermill": {
     "duration": 0.024289,
     "end_time": "2024-04-21T10:29:01.643660",
     "exception": false,
     "start_time": "2024-04-21T10:29:01.619371",
     "status": "completed"
    },
    "tags": []
   },
   "outputs": [
    {
     "name": "stdout",
     "output_type": "stream",
     "text": [
      "-1.2796164522064672 0.10034003040536987\n",
      "귀무가설 기각\n"
     ]
    }
   ],
   "source": [
    "n1 = 161\n",
    "p1 = 54 / 161\n",
    "\n",
    "n2 = 52\n",
    "p2 = 52 / 120 \n",
    "\n",
    "alpha = 0.05\n",
    "\n",
    "# 차이 \n",
    "d = p1 - p2 \n",
    "\n",
    "# 합동분산\n",
    "pe = (p1 * n1 + p2 * n2) / (n1 + n2)\n",
    "SE = np.sqrt((pe * (1 - pe)) / n1  + (pe * (1 - pe)) / n2)\n",
    "\n",
    "z = d/SE\n",
    "\n",
    "# 기각역 \n",
    "z_critical = norm.ppf(1 - alpha / 2)\n",
    "\n",
    "# 유의 수준\n",
    "p_val = 1 - norm.cdf(np.abs(z))\n",
    "\n",
    "print(z, p_val)\n",
    "print('귀무가설 기각' if p > 0.05 else '귀무가설채택')"
   ]
  },
  {
   "cell_type": "markdown",
   "id": "53f60e22",
   "metadata": {
    "papermill": {
     "duration": 0.009827,
     "end_time": "2024-04-21T10:29:01.663975",
     "exception": false,
     "start_time": "2024-04-21T10:29:01.654148",
     "status": "completed"
    },
    "tags": []
   },
   "source": []
  },
  {
   "attachments": {
    "c9bf65de-e794-4854-882f-eb07e1edaa3d.png": {
     "image/png": "[encoded data removed]"
    }
   },
   "cell_type": "markdown",
   "id": "a81e72b0",
   "metadata": {
    "papermill": {
     "duration": 0.009846,
     "end_time": "2024-04-21T10:29:01.684289",
     "exception": false,
     "start_time": "2024-04-21T10:29:01.674443",
     "status": "completed"
    },
    "tags": []
   },
   "source": [
    "공구를 생산하는 어느 공장은 주간 생산조와 야간 생산조를 운영하고 있다. \n",
    "과 를 각각 주간 생산조와 야간 생산조가 생산한 공구의 불량률이라고하자. 각 생산조에 의해 생산된 공구를 무작위로 1000개씩 뽑아서  대를 검정하려고 한다. 주간 생산 공구와 야간 생산 공구로부터 각각 \n",
    "개의 불량품들이 관측되었다. 유의수준 0.05하에서 가설을 검정\n",
    "\n",
    "![image.png](attachment:c9bf65de-e794-4854-882f-eb07e1edaa3d.png)"
   ]
  },
  {
   "cell_type": "code",
   "execution_count": 11,
   "id": "9036b1e3",
   "metadata": {
    "execution": {
     "iopub.execute_input": "2024-04-21T10:29:01.705991Z",
     "iopub.status.busy": "2024-04-21T10:29:01.705582Z",
     "iopub.status.idle": "2024-04-21T10:29:01.713750Z",
     "shell.execute_reply": "2024-04-21T10:29:01.712449Z"
    },
    "papermill": {
     "duration": 0.021756,
     "end_time": "2024-04-21T10:29:01.716120",
     "exception": false,
     "start_time": "2024-04-21T10:29:01.694364",
     "status": "completed"
    },
    "tags": []
   },
   "outputs": [],
   "source": [
    "n1 = 1000 \n",
    "p1 = 37 / 1000 \n",
    "\n",
    "n2 = 1000\n",
    "p2 = 53/ 1000 \n",
    "\n",
    "alpha = 0.05 \n",
    "\n",
    "# 차이 \n",
    "d = p1 - p2 \n",
    "\n",
    "# PE \n",
    "pe = (n1 * p1 + n2 * p2) / (n1 + n2)\n",
    "SE = np.sqrt((pe * (1 -pe)) /n1 + (pe * (1 -pe)) /n2) \n",
    "\n",
    "z = d/ SE\n",
    "\n",
    "# 기각역 \n",
    "z_critical = norm.ppf(1 - alpha/ 2)"
   ]
  },
  {
   "cell_type": "markdown",
   "id": "c683521e",
   "metadata": {
    "papermill": {
     "duration": 0.009729,
     "end_time": "2024-04-21T10:29:01.735761",
     "exception": false,
     "start_time": "2024-04-21T10:29:01.726032",
     "status": "completed"
    },
    "tags": []
   },
   "source": [
    "pm과 pf 를 각각 어느 새의 수컷과 암컷이 그들이 부화한 장소로 돌아오는 비율을 나타낸다고 하자. 894마리 수컷 중 124마리가 돌아왔고, 700마리 암컷 중 70마리가 돌아왔을 때 두 비율 차이에 대한 95% 신뢰구간을 구하여라."
   ]
  },
  {
   "cell_type": "code",
   "execution_count": null,
   "id": "653ce0c2",
   "metadata": {
    "papermill": {
     "duration": 0.009447,
     "end_time": "2024-04-21T10:29:01.755374",
     "exception": false,
     "start_time": "2024-04-21T10:29:01.745927",
     "status": "completed"
    },
    "tags": []
   },
   "outputs": [],
   "source": []
  },
  {
   "cell_type": "code",
   "execution_count": null,
   "id": "79f6c7f7",
   "metadata": {
    "papermill": {
     "duration": 0.009875,
     "end_time": "2024-04-21T10:29:01.775408",
     "exception": false,
     "start_time": "2024-04-21T10:29:01.765533",
     "status": "completed"
    },
    "tags": []
   },
   "outputs": [],
   "source": []
  },
  {
   "cell_type": "code",
   "execution_count": null,
   "id": "55a4bab7",
   "metadata": {
    "papermill": {
     "duration": 0.009563,
     "end_time": "2024-04-21T10:29:01.795014",
     "exception": false,
     "start_time": "2024-04-21T10:29:01.785451",
     "status": "completed"
    },
    "tags": []
   },
   "outputs": [],
   "source": []
  }
 ],
 "metadata": {
  "kaggle": {
   "accelerator": "none",
   "dataSources": [],
   "dockerImageVersionId": 30698,
   "isGpuEnabled": false,
   "isInternetEnabled": false,
   "language": "python",
   "sourceType": "notebook"
  },
  "kernelspec": {
   "display_name": "Python 3",
   "language": "python",
   "name": "python3"
  },
  "language_info": {
   "codemirror_mode": {
    "name": "ipython",
    "version": 3
   },
   "file_extension": ".py",
   "mimetype": "text/x-python",
   "name": "python",
   "nbconvert_exporter": "python",
   "pygments_lexer": "ipython3",
   "version": "3.10.13"
  },
  "papermill": {
   "default_parameters": {},
   "duration": 6.693876,
   "end_time": "2024-04-21T10:29:02.426238",
   "environment_variables": {},
   "exception": null,
   "input_path": "__notebook__.ipynb",
   "output_path": "__notebook__.ipynb",
   "parameters": {},
   "start_time": "2024-04-21T10:28:55.732362",
   "version": "2.5.0"
  }
 },
 "nbformat": 4,
 "nbformat_minor": 5
}
